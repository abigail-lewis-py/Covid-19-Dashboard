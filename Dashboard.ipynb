{
 "cells": [
  {
   "cell_type": "markdown",
   "metadata": {},
   "source": [
    "# Covid-19 Dashboard - Test to Case Comparisons"
   ]
  },
  {
   "cell_type": "markdown",
   "metadata": {},
   "source": [
    "Public health England publish daily status' showing the number of new tests conducted under the Covid-19 Pandemic and the results. \n",
    "\n",
    "This dashboard allows you to visualise this data in a way that you can determine the relationship between tests conducted and the number of cases reported as a result. \n",
    "\n",
    "This is with a view to build a perspective on the US President's claim of more cases only being discovered due to increased testing. This was documented widely in the news including [here](https://www.cnbc.com/2020/06/23/trump-blames-rise-in-coronavirus-cases-on-testing-despite-signs-of-spread.html) on CNBC (a US news provider). \n",
    "\n",
    "You can refresh this data on a daily basis as and when Public Health England make it available by making use of the provided 'Refresh Button'"
   ]
  },
  {
   "cell_type": "code",
   "execution_count": 13,
   "metadata": {},
   "outputs": [],
   "source": [
    "import ipywidgets as wdg\n",
    "import pandas as pd\n",
    "import numpy as np\n",
    "import matplotlib.pyplot as plt\n",
    "import json\n",
    "from uk_covid19 import Cov19API"
   ]
  },
  {
   "cell_type": "code",
   "execution_count": 14,
   "metadata": {},
   "outputs": [],
   "source": [
    "%matplotlib inline\n",
    "# make figures larger\n",
    "plt.rcParams['figure.dpi'] = 100"
   ]
  },
  {
   "cell_type": "code",
   "execution_count": 15,
   "metadata": {},
   "outputs": [],
   "source": [
    "filters = [\n",
    "    'areaType=overview' #data for the entire United Kingdom\n",
    "]\n",
    "structure = {\n",
    "    \"date\": \"date\",\n",
    "    \"casesPub\": \"newCasesByPublishDate\",\n",
    "    \"casesSpec\": \"newCasesBySpecimenDate\",\n",
    "    \"testsNew\": \"newTestsByPublishDate\",\n",
    "    \"testsTotalPub\": \"cumTestsByPublishDate\", \n",
    "    \"testsTotalSpec\": \"cumCasesBySpecimenDate\"\n",
    "    '''this data will allow for further analysis at a later date to compare total numbers of tests and cases'''\n",
    "}\n",
    "api = Cov19API(filters=filters, structure=structure) #define the api\n",
    "testcasedata=api.get_json() \n",
    "with open(\"testcasedata.json\", \"wt\") as OUTF:\n",
    "    json.dump(testcasedata, OUTF)"
   ]
  },
  {
   "cell_type": "code",
   "execution_count": 16,
   "metadata": {},
   "outputs": [],
   "source": [
    "testcasedatalist=testcasedata['data'] #create a list from the api, original was a dictionary \n",
    "\n",
    "testdates=[dictionary['date'] for dictionary in testcasedatalist ]\n",
    "testdates.sort()# sort the dates in chronological order"
   ]
  },
  {
   "cell_type": "code",
   "execution_count": 17,
   "metadata": {},
   "outputs": [],
   "source": [
    "def parse_date(datestring):\n",
    "    \"\"\" Convert a date string into a pandas datetime object \"\"\"\n",
    "    return pd.to_datetime(datestring, format=\"%Y-%m-%d\")"
   ]
  },
  {
   "cell_type": "code",
   "execution_count": 18,
   "metadata": {},
   "outputs": [],
   "source": [
    "startdate=parse_date(testdates[0])\n",
    "enddate=parse_date(testdates[-1])"
   ]
  },
  {
   "cell_type": "code",
   "execution_count": 19,
   "metadata": {},
   "outputs": [],
   "source": [
    "index=pd.date_range(startdate, enddate, freq='D')\n",
    "newcasetest=pd.DataFrame(index=index, columns=['casesPub', 'casesSpec', 'testsNew']) #create the data frame"
   ]
  },
  {
   "cell_type": "code",
   "execution_count": 20,
   "metadata": {},
   "outputs": [],
   "source": [
    "for entry in testcasedatalist: # populate the data frame with data from the list created\n",
    "    date=parse_date(entry['date'])\n",
    "    for column in ['casesPub', 'casesSpec', 'testsNew']:\n",
    "        if pd.isna(newcasetest.loc[date, column]):  \n",
    "            value= float(entry[column]) if entry[column]!=None else 0.0 # display null data with 0 instead of none\n",
    "            newcasetest.loc[date, column]=value\n",
    "            \n",
    "newcasetest.fillna(0.0, inplace=True)"
   ]
  },
  {
   "cell_type": "markdown",
   "metadata": {},
   "source": [
    "## Tests Against Cases"
   ]
  },
  {
   "cell_type": "markdown",
   "metadata": {},
   "source": [
    "The US President had publicly stated his hypothesis that the reason that more Covid cases were arising were due to increase testing. \n",
    "\n",
    "Through the gathering of UK health data and the plotting of this against the metrics of cases and tests, a visual representation of the relationship between increased testing and cases found can be seen. \n",
    "\n",
    "From the data to date (which can be refreshed below), the US Presidents hypothesis is proven incorrect. This is very clear between May and October 2020 where testing increased by 500%, and cases in most case levelled or decreased. "
   ]
  },
  {
   "cell_type": "markdown",
   "metadata": {},
   "source": [
    "#### Key: "
   ]
  },
  {
   "cell_type": "markdown",
   "metadata": {},
   "source": [
    "  - casesPub: The number of cases recored by publish date \n",
    "  - casesSpec: The number of cases recorded by Specimen date \n",
    "  - testsNew: The number of new tests recorded"
   ]
  },
  {
   "cell_type": "markdown",
   "metadata": {},
   "source": [
    "By default, for your interest all metrics are plotted. \n",
    "\n",
    "An interactive control is available which can be used to add or remove metrics. "
   ]
  },
  {
   "cell_type": "code",
   "execution_count": 21,
   "metadata": {},
   "outputs": [],
   "source": [
    "def access_api(api):\n",
    "    \"\"\" Accesses the PHE API. Returns raw data in the same format as data loaded from the \"canned\" JSON file. \"\"\"\n",
    "    return {} # return data read from the API"
   ]
  },
  {
   "cell_type": "code",
   "execution_count": 22,
   "metadata": {},
   "outputs": [
    {
     "data": {
      "application/vnd.jupyter.widget-view+json": {
       "model_id": "db8709d129544593a799bb35185c5a96",
       "version_major": 2,
       "version_minor": 0
      },
      "text/plain": [
       "SelectMultiple(description='Stats', index=(0, 1, 2), options=('casesPub', 'casesSpec', 'testsNew'), rows=3, va…"
      ]
     },
     "metadata": {},
     "output_type": "display_data"
    },
    {
     "data": {
      "application/vnd.jupyter.widget-view+json": {
       "model_id": "9c5a4040570947ba851cde99a2822100",
       "version_major": 2,
       "version_minor": 0
      },
      "text/plain": [
       "Output()"
      ]
     },
     "metadata": {},
     "output_type": "display_data"
    }
   ],
   "source": [
    "casetestcols=wdg.SelectMultiple(\n",
    "    options=['casesPub', 'casesSpec', 'testsNew'],\n",
    "    value=['casesPub', 'casesSpec', 'testsNew'],\n",
    "    rows=3,\n",
    "    description='Stats',\n",
    "    disabled=False\n",
    ")\n",
    "\n",
    "def casetestgraph(graphcolumns):\n",
    "    # our callback function.\n",
    "    ncols=len(graphcolumns)\n",
    "    if ncols>0:\n",
    "        newcasetest.plot(kind='line', y=list(graphcolumns)) \n",
    "    else:\n",
    "        # if the user has not selected any column, print a message instead\n",
    "        print(\"Click to select data for graph\")\n",
    "        print(\"(CTRL-Click to select more than one category)\")\n",
    "    \n",
    "   \n",
    "casetestgraph=wdg.interactive_output(casetestgraph, {'graphcolumns': casetestcols})\n",
    "\n",
    "display(casetestcols, casetestgraph)"
   ]
  },
  {
   "cell_type": "code",
   "execution_count": 23,
   "metadata": {},
   "outputs": [
    {
     "data": {
      "application/vnd.jupyter.widget-view+json": {
       "model_id": "b1ca0f5b94d44c4abdcbafe8b7a5d98c",
       "version_major": 2,
       "version_minor": 0
      },
      "text/plain": [
       "Button(button_style='success', description='Fetch Data', icon='refresh', style=ButtonStyle(), tooltip='click b…"
      ]
     },
     "metadata": {},
     "output_type": "display_data"
    }
   ],
   "source": [
    "def api_button_callback(button):\n",
    "    \"\"\" Button callback - it must take the button as its parameter (unused in this case).\n",
    "    Accesses API, wrangles data, updates global variable df used for plotting. \"\"\" \n",
    "    apidata=api\n",
    "    global df\n",
    "    df=access_api(newcasetest)\n",
    "\n",
    "apibutton=wdg.Button(\n",
    "    description='Fetch Data', \n",
    "    disabled=False,\n",
    "    button_style='success', \n",
    "    tooltip=\"click button to refresh data\",\n",
    "    \n",
    "    icon='refresh'\n",
    ")\n",
    "\n",
    "\n",
    "apibutton.on_click(api_button_callback) \n",
    "\n",
    "display(apibutton)"
   ]
  },
  {
   "cell_type": "markdown",
   "metadata": {},
   "source": [
    "Copyright for all test and case data: UK Government [data](https://coronavirus.data.gov.uk/) published by [Public Health England](https://www.gov.uk/government/organisations/public-health-england)."
   ]
  }
 ],
 "metadata": {
  "kernelspec": {
   "display_name": "Python 3",
   "language": "python",
   "name": "python3"
  },
  "language_info": {
   "codemirror_mode": {
    "name": "ipython",
    "version": 3
   },
   "file_extension": ".py",
   "mimetype": "text/x-python",
   "name": "python",
   "nbconvert_exporter": "python",
   "pygments_lexer": "ipython3",
   "version": "3.8.3"
  }
 },
 "nbformat": 4,
 "nbformat_minor": 4
}
