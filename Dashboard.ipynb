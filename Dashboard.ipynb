{
 "cells": [
  {
   "cell_type": "markdown",
   "metadata": {},
   "source": [
    "# Covid-19 Dashboard - Test to Case Comparisons"
   ]
  },
  {
   "cell_type": "markdown",
   "metadata": {},
   "source": [
    "Public health England publish daily status' showing the number of new tests conducted under the Covid-19 Pandemic and the results. \n",
    "\n",
    "This dashboard allows you to visualise this data in a way that you can determine the relationship between tests conducted and the number of cases reported as a result. \n",
    "\n",
    "This is with a view to build a perspective on the US claim of more cases only being discovered due to increased testing. \n",
    "\n",
    "You can refresh this data on a daily basis as and when Public Health England make it available by making use of the provided 'Refresh Button'"
   ]
  },
  {
   "cell_type": "code",
   "execution_count": 240,
   "metadata": {},
   "outputs": [],
   "source": [
    "import ipywidgets as wdg\n",
    "import pandas as pd\n",
    "import numpy as np\n",
    "import matplotlib.pyplot as plt\n",
    "import json\n",
    "from uk_covid19 import Cov19API"
   ]
  },
  {
   "cell_type": "code",
   "execution_count": 241,
   "metadata": {},
   "outputs": [],
   "source": [
    "%matplotlib inline\n",
    "# make figures larger\n",
    "plt.rcParams['figure.dpi'] = 100"
   ]
  },
  {
   "cell_type": "code",
   "execution_count": 242,
   "metadata": {},
   "outputs": [],
   "source": [
    "filters = [\n",
    "    'areaType=overview' #data for the entire United Kingdom\n",
    "]\n",
    "structure = {\n",
    "    \"date\": \"date\",\n",
    "    \"casesPub\": \"newCasesByPublishDate\",\n",
    "    \"casesSpec\": \"newCasesBySpecimenDate\",\n",
    "    \"testsNew\": \"newTestsByPublishDate\",\n",
    "    \"testsTotalPub\": \"cumTestsByPublishDate\", \n",
    "    \"testsTotalSpec\": \"cumCasesBySpecimenDate\"\n",
    "    '''this data will allow for further analysis at a later date to compare total numbers of tests and cases'''\n",
    "}\n",
    "api = Cov19API(filters=filters, structure=structure) #define the api\n",
    "testcasedata=api.get_json() \n",
    "with open(\"testcasedata.json\", \"wt\") as OUTF:\n",
    "    json.dump(testcasedata, OUTF)"
   ]
  },
  {
   "cell_type": "code",
   "execution_count": 243,
   "metadata": {},
   "outputs": [],
   "source": [
    "testcasedatalist=testcasedata['data'] #create a list from the api, original was a dictionary \n",
    "\n",
    "testdates=[dictionary['date'] for dictionary in testcasedatalist ]\n",
    "testdates.sort()# sort the dates in chronological order"
   ]
  },
  {
   "cell_type": "code",
   "execution_count": 244,
   "metadata": {},
   "outputs": [],
   "source": [
    "def parse_date(datestring):\n",
    "    \"\"\" Convert a date string into a pandas datetime object \"\"\"\n",
    "    return pd.to_datetime(datestring, format=\"%Y-%m-%d\")"
   ]
  },
  {
   "cell_type": "code",
   "execution_count": 276,
   "metadata": {},
   "outputs": [
    {
     "name": "stdout",
     "output_type": "stream",
     "text": [
      "2020-01-03 00:00:00  to  2020-11-26 00:00:00\n"
     ]
    }
   ],
   "source": [
    "startdate=parse_date(testdates[0])\n",
    "enddate=parse_date(testdates[-1])\n",
    "print (startdate, ' to ', enddate)"
   ]
  },
  {
   "cell_type": "code",
   "execution_count": 277,
   "metadata": {},
   "outputs": [
    {
     "data": {
      "text/html": [
       "<div>\n",
       "<style scoped>\n",
       "    .dataframe tbody tr th:only-of-type {\n",
       "        vertical-align: middle;\n",
       "    }\n",
       "\n",
       "    .dataframe tbody tr th {\n",
       "        vertical-align: top;\n",
       "    }\n",
       "\n",
       "    .dataframe thead th {\n",
       "        text-align: right;\n",
       "    }\n",
       "</style>\n",
       "<table border=\"1\" class=\"dataframe\">\n",
       "  <thead>\n",
       "    <tr style=\"text-align: right;\">\n",
       "      <th></th>\n",
       "      <th>casesPub</th>\n",
       "      <th>casesSpec</th>\n",
       "      <th>testsNew</th>\n",
       "    </tr>\n",
       "  </thead>\n",
       "  <tbody>\n",
       "    <tr>\n",
       "      <th>2020-01-03</th>\n",
       "      <td>NaN</td>\n",
       "      <td>NaN</td>\n",
       "      <td>NaN</td>\n",
       "    </tr>\n",
       "    <tr>\n",
       "      <th>2020-01-04</th>\n",
       "      <td>NaN</td>\n",
       "      <td>NaN</td>\n",
       "      <td>NaN</td>\n",
       "    </tr>\n",
       "    <tr>\n",
       "      <th>2020-01-05</th>\n",
       "      <td>NaN</td>\n",
       "      <td>NaN</td>\n",
       "      <td>NaN</td>\n",
       "    </tr>\n",
       "    <tr>\n",
       "      <th>2020-01-06</th>\n",
       "      <td>NaN</td>\n",
       "      <td>NaN</td>\n",
       "      <td>NaN</td>\n",
       "    </tr>\n",
       "    <tr>\n",
       "      <th>2020-01-07</th>\n",
       "      <td>NaN</td>\n",
       "      <td>NaN</td>\n",
       "      <td>NaN</td>\n",
       "    </tr>\n",
       "    <tr>\n",
       "      <th>...</th>\n",
       "      <td>...</td>\n",
       "      <td>...</td>\n",
       "      <td>...</td>\n",
       "    </tr>\n",
       "    <tr>\n",
       "      <th>2020-11-22</th>\n",
       "      <td>NaN</td>\n",
       "      <td>NaN</td>\n",
       "      <td>NaN</td>\n",
       "    </tr>\n",
       "    <tr>\n",
       "      <th>2020-11-23</th>\n",
       "      <td>NaN</td>\n",
       "      <td>NaN</td>\n",
       "      <td>NaN</td>\n",
       "    </tr>\n",
       "    <tr>\n",
       "      <th>2020-11-24</th>\n",
       "      <td>NaN</td>\n",
       "      <td>NaN</td>\n",
       "      <td>NaN</td>\n",
       "    </tr>\n",
       "    <tr>\n",
       "      <th>2020-11-25</th>\n",
       "      <td>NaN</td>\n",
       "      <td>NaN</td>\n",
       "      <td>NaN</td>\n",
       "    </tr>\n",
       "    <tr>\n",
       "      <th>2020-11-26</th>\n",
       "      <td>NaN</td>\n",
       "      <td>NaN</td>\n",
       "      <td>NaN</td>\n",
       "    </tr>\n",
       "  </tbody>\n",
       "</table>\n",
       "<p>329 rows × 3 columns</p>\n",
       "</div>"
      ],
      "text/plain": [
       "           casesPub casesSpec testsNew\n",
       "2020-01-03      NaN       NaN      NaN\n",
       "2020-01-04      NaN       NaN      NaN\n",
       "2020-01-05      NaN       NaN      NaN\n",
       "2020-01-06      NaN       NaN      NaN\n",
       "2020-01-07      NaN       NaN      NaN\n",
       "...             ...       ...      ...\n",
       "2020-11-22      NaN       NaN      NaN\n",
       "2020-11-23      NaN       NaN      NaN\n",
       "2020-11-24      NaN       NaN      NaN\n",
       "2020-11-25      NaN       NaN      NaN\n",
       "2020-11-26      NaN       NaN      NaN\n",
       "\n",
       "[329 rows x 3 columns]"
      ]
     },
     "execution_count": 277,
     "metadata": {},
     "output_type": "execute_result"
    }
   ],
   "source": [
    "index=pd.date_range(startdate, enddate, freq='D')\n",
    "newcasetest=pd.DataFrame(index=index, columns=['casesPub', 'casesSpec', 'testsNew']) #create the data frame\n",
    "newcasetest"
   ]
  },
  {
   "cell_type": "code",
   "execution_count": 278,
   "metadata": {},
   "outputs": [
    {
     "data": {
      "text/html": [
       "<div>\n",
       "<style scoped>\n",
       "    .dataframe tbody tr th:only-of-type {\n",
       "        vertical-align: middle;\n",
       "    }\n",
       "\n",
       "    .dataframe tbody tr th {\n",
       "        vertical-align: top;\n",
       "    }\n",
       "\n",
       "    .dataframe thead th {\n",
       "        text-align: right;\n",
       "    }\n",
       "</style>\n",
       "<table border=\"1\" class=\"dataframe\">\n",
       "  <thead>\n",
       "    <tr style=\"text-align: right;\">\n",
       "      <th></th>\n",
       "      <th>casesPub</th>\n",
       "      <th>casesSpec</th>\n",
       "      <th>testsNew</th>\n",
       "    </tr>\n",
       "  </thead>\n",
       "  <tbody>\n",
       "    <tr>\n",
       "      <th>2020-01-03</th>\n",
       "      <td>0.0</td>\n",
       "      <td>0.0</td>\n",
       "      <td>0.0</td>\n",
       "    </tr>\n",
       "    <tr>\n",
       "      <th>2020-01-04</th>\n",
       "      <td>0.0</td>\n",
       "      <td>0.0</td>\n",
       "      <td>0.0</td>\n",
       "    </tr>\n",
       "    <tr>\n",
       "      <th>2020-01-05</th>\n",
       "      <td>0.0</td>\n",
       "      <td>0.0</td>\n",
       "      <td>0.0</td>\n",
       "    </tr>\n",
       "    <tr>\n",
       "      <th>2020-01-06</th>\n",
       "      <td>0.0</td>\n",
       "      <td>0.0</td>\n",
       "      <td>0.0</td>\n",
       "    </tr>\n",
       "    <tr>\n",
       "      <th>2020-01-07</th>\n",
       "      <td>0.0</td>\n",
       "      <td>0.0</td>\n",
       "      <td>0.0</td>\n",
       "    </tr>\n",
       "    <tr>\n",
       "      <th>...</th>\n",
       "      <td>...</td>\n",
       "      <td>...</td>\n",
       "      <td>...</td>\n",
       "    </tr>\n",
       "    <tr>\n",
       "      <th>2020-11-22</th>\n",
       "      <td>18662.0</td>\n",
       "      <td>11729.0</td>\n",
       "      <td>279458.0</td>\n",
       "    </tr>\n",
       "    <tr>\n",
       "      <th>2020-11-23</th>\n",
       "      <td>15450.0</td>\n",
       "      <td>17798.0</td>\n",
       "      <td>214920.0</td>\n",
       "    </tr>\n",
       "    <tr>\n",
       "      <th>2020-11-24</th>\n",
       "      <td>11299.0</td>\n",
       "      <td>11242.0</td>\n",
       "      <td>314800.0</td>\n",
       "    </tr>\n",
       "    <tr>\n",
       "      <th>2020-11-25</th>\n",
       "      <td>18213.0</td>\n",
       "      <td>0.0</td>\n",
       "      <td>359597.0</td>\n",
       "    </tr>\n",
       "    <tr>\n",
       "      <th>2020-11-26</th>\n",
       "      <td>17555.0</td>\n",
       "      <td>0.0</td>\n",
       "      <td>0.0</td>\n",
       "    </tr>\n",
       "  </tbody>\n",
       "</table>\n",
       "<p>329 rows × 3 columns</p>\n",
       "</div>"
      ],
      "text/plain": [
       "            casesPub  casesSpec  testsNew\n",
       "2020-01-03       0.0        0.0       0.0\n",
       "2020-01-04       0.0        0.0       0.0\n",
       "2020-01-05       0.0        0.0       0.0\n",
       "2020-01-06       0.0        0.0       0.0\n",
       "2020-01-07       0.0        0.0       0.0\n",
       "...              ...        ...       ...\n",
       "2020-11-22   18662.0    11729.0  279458.0\n",
       "2020-11-23   15450.0    17798.0  214920.0\n",
       "2020-11-24   11299.0    11242.0  314800.0\n",
       "2020-11-25   18213.0        0.0  359597.0\n",
       "2020-11-26   17555.0        0.0       0.0\n",
       "\n",
       "[329 rows x 3 columns]"
      ]
     },
     "execution_count": 278,
     "metadata": {},
     "output_type": "execute_result"
    }
   ],
   "source": [
    "for entry in testcasedatalist: # populate the data frame with data from the list created\n",
    "    date=parse_date(entry['date'])\n",
    "    for column in ['casesPub', 'casesSpec', 'testsNew']:\n",
    "        if pd.isna(newcasetest.loc[date, column]):  \n",
    "            value= float(entry[column]) if entry[column]!=None else 0.0 # display null data with 0 instead of none\n",
    "            newcasetest.loc[date, column]=value\n",
    "            \n",
    "newcasetest.fillna(0.0, inplace=True)\n",
    "            \n",
    "newcasetest"
   ]
  },
  {
   "cell_type": "markdown",
   "metadata": {},
   "source": [
    "## Tests Against Cases"
   ]
  },
  {
   "cell_type": "markdown",
   "metadata": {},
   "source": [
    "The US President had publicly stated his hypothesis that the reason that more Covid cases were arising were due to increase testing. \n",
    "\n",
    "Through the gathering of UK health data and the plotting of this against the metrics of cases and tests, a visual representation of the relationship between increased testing and cases found can be seen. \n",
    "\n",
    "From the data to date (which can be refreshed below), the US Presidents hypothesis is proven incorrect. This is very clear between May and October 2020 where testing increased by 500%, and cases in most case levelled or decreased. "
   ]
  },
  {
   "cell_type": "markdown",
   "metadata": {},
   "source": [
    "#### Key: "
   ]
  },
  {
   "cell_type": "markdown",
   "metadata": {},
   "source": [
    "  - casesPub: The number of cases recored by publish date \n",
    "  - casesSpec: The number of cases recorded by Specimen date \n",
    "  - testsNew: The number of new tests recorded"
   ]
  },
  {
   "cell_type": "markdown",
   "metadata": {},
   "source": [
    "By default, for your interest all metrics are plotted. \n",
    "\n",
    "An interactive control is available which can be used to add or remove metrics. "
   ]
  },
  {
   "cell_type": "code",
   "execution_count": 279,
   "metadata": {},
   "outputs": [],
   "source": [
    "def access_api(api):\n",
    "    \"\"\" Accesses the PHE API. Returns raw data in the same format as data loaded from the \"canned\" JSON file. \"\"\"\n",
    "    return {} # return data read from the API"
   ]
  },
  {
   "cell_type": "code",
   "execution_count": 288,
   "metadata": {},
   "outputs": [
    {
     "data": {
      "application/vnd.jupyter.widget-view+json": {
       "model_id": "828dbc8db00843febffbd93f69410f12",
       "version_major": 2,
       "version_minor": 0
      },
      "text/plain": [
       "SelectMultiple(description='Stats', index=(0, 1, 2), options=('casesPub', 'casesSpec', 'testsNew'), rows=3, va…"
      ]
     },
     "metadata": {},
     "output_type": "display_data"
    },
    {
     "data": {
      "application/vnd.jupyter.widget-view+json": {
       "model_id": "4b72e817690749b28da4a8cddc0755b4",
       "version_major": 2,
       "version_minor": 0
      },
      "text/plain": [
       "Output()"
      ]
     },
     "metadata": {},
     "output_type": "display_data"
    }
   ],
   "source": [
    "casetestcols=wdg.SelectMultiple(\n",
    "    options=['casesPub', 'casesSpec', 'testsNew'],\n",
    "    value=['casesPub', 'casesSpec', 'testsNew'],\n",
    "    rows=3,\n",
    "    description='Stats',\n",
    "    disabled=False\n",
    ")\n",
    "\n",
    "def casetestgraph(graphcolumns):\n",
    "    # our callback function.\n",
    "    ncols=len(graphcolumns)\n",
    "    if ncols>0:\n",
    "        newcasetest.plot(kind='line', y=list(graphcolumns)) # graphcolumns is a tuple - we need a list\n",
    "    else:\n",
    "        # if the user has not selected any column, print a message instead\n",
    "        print(\"Click to select data for graph\")\n",
    "        print(\"(CTRL-Click to select more than one category)\")\n",
    "    \n",
    "# keep calling age_graph(graphcolumns=value_of_agecols); capture output in variable output    \n",
    "casetestgraph=wdg.interactive_output(casetestgraph, {'graphcolumns': casetestcols})\n",
    "\n",
    "display(casetestcols, casetestgraph)"
   ]
  },
  {
   "cell_type": "code",
   "execution_count": 274,
   "metadata": {},
   "outputs": [
    {
     "data": {
      "application/vnd.jupyter.widget-view+json": {
       "model_id": "49cb760fb5bc422abe424bf2e0c2db67",
       "version_major": 2,
       "version_minor": 0
      },
      "text/plain": [
       "Button(button_style='success', description='Fetch Data', icon='refresh', style=ButtonStyle(), tooltip='click b…"
      ]
     },
     "metadata": {},
     "output_type": "display_data"
    }
   ],
   "source": [
    "def api_button_callback(button):\n",
    "    \"\"\" Button callback - it must take the button as its parameter (unused in this case).\n",
    "    Accesses API, wrangles data, updates global variable df used for plotting. \"\"\"\n",
    "    # Get fresh data from the API. \n",
    "    apidata=Cov19API(filters=filters, structure=structure)\n",
    "    # wrangle the data and overwrite the dataframe for plotting\n",
    "    global df\n",
    "    df=access_api(newcasetest)\n",
    "    # the graph won't refresh until the user interacts with the widget.\n",
    "    # this function simulates the interaction, see Graph and Analysis below.\n",
    "    # you can omit this step in the first instance\n",
    "    refresh_graph()\n",
    "    # after all is done, you can switch the icon on the button to a \"check\" sign\n",
    "    # and optionally disable the button - it won't be needed again. You can use icons\n",
    "    # \"unlink\" or \"times\" and change the button text to \"Unavailable\" in case the \n",
    "    # api call fails.\n",
    "    apibutton.icon=\"check\"\n",
    "    # apibutton.disabled=True\n",
    "\n",
    "    \n",
    "apibutton=wdg.Button(\n",
    "    description='Fetch Data', # you may want to change this...\n",
    "    disabled=False,\n",
    "    button_style='success', # 'success', 'info', 'warning', 'danger' or ''\n",
    "    tooltip=\"click button to refresh data\",\n",
    "    # FontAwesome names without the `fa-` prefix - try \"download\"\n",
    "    icon='refresh'\n",
    ")\n",
    "\n",
    "# remember to register your button callback function with the button\n",
    "apibutton.on_click(api_button_callback) # the name of your function inside these brackets\n",
    "\n",
    "display(apibutton)\n",
    "\n",
    "# run all cells before clicking on this button"
   ]
  },
  {
   "cell_type": "markdown",
   "metadata": {},
   "source": [
    "## Deploying the dashboard\n",
    "\n",
    "Once your code is ready and you are satisfied with the appearance of the graphs, replace all the text boxes above with the explanations you would like a dashboard user to see. The next step is deploying the dashboard online - there are several [options](https://voila.readthedocs.io/en/stable/deploy.html) for this, we suggest deploying as a [Binder](https://mybinder.org/). This is basically the same technique that has been used to package this tutorial and to deploy this template dashboard. The instructions may seem a bit involved, but the actual steps are surprisingly easy - we will be going through them together during a live session. You will need an account on [GitHub](https://github.com/) for this - if you don't have one already, now it's the time to create it. "
   ]
  },
  {
   "cell_type": "markdown",
   "metadata": {},
   "source": [
    "**Author and Copyright Notice** Remember if you deploy this dashboard as a Binder it will be publicly accessible. Take credit for your work! Also acknowledge the data source: *Based on UK Government [data](https://coronavirus.data.gov.uk/) published by [Public Health England](https://www.gov.uk/government/organisations/public-health-england).*"
   ]
  }
 ],
 "metadata": {
  "kernelspec": {
   "display_name": "Python 3",
   "language": "python",
   "name": "python3"
  },
  "language_info": {
   "codemirror_mode": {
    "name": "ipython",
    "version": 3
   },
   "file_extension": ".py",
   "mimetype": "text/x-python",
   "name": "python",
   "nbconvert_exporter": "python",
   "pygments_lexer": "ipython3",
   "version": "3.8.3"
  }
 },
 "nbformat": 4,
 "nbformat_minor": 4
}
